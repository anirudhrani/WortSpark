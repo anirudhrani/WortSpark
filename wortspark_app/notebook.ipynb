{
 "cells": [
  {
   "cell_type": "code",
   "execution_count": 9,
   "metadata": {},
   "outputs": [
    {
     "name": "stderr",
     "output_type": "stream",
     "text": [
      "/var/folders/4h/2rr5nwrj3t5_r7g_lmcb4lh00000gn/T/ipykernel_47059/1586885912.py:31: LangChainDeprecationWarning: The class `ChatOpenAI` was deprecated in LangChain 0.0.10 and will be removed in 1.0. An updated version of the class exists in the :class:`~langchain-openai package and should be used instead. To use it run `pip install -U :class:`~langchain-openai` and import as `from :class:`~langchain_openai import ChatOpenAI``.\n",
      "  llm = ChatOpenAI(openai_api_key=openai_api_key,\n"
     ]
    },
    {
     "name": "stdout",
     "output_type": "stream",
     "text": [
      "Task description: Move robot from home to point A.\n",
      "\n",
      "Generated WandelScript:\n",
      "\n",
      "home = (0, 0, 0, 0, 0, 0)\n",
      "point_A = (100, 100, 100, 0, 0, 0)\n",
      "tcp(\"Flange\")\n",
      "robot = get_controller(\"controller_name\")[0]\n",
      "do with robot:\n",
      "    move via p2p() to point_A\n",
      "    wait(500)\n",
      "    print(\"Moved to point A.\")\n"
     ]
    }
   ],
   "source": [
    "from langgraph.graph import StateGraph, END\n",
    "from langgraph.graph.message import add_messages\n",
    "from langchain.schema import SystemMessage, HumanMessage\n",
    "from langchain.chat_models import ChatOpenAI\n",
    "import json, os\n",
    "from dotenv import load_dotenv, find_dotenv\n",
    "load_dotenv(find_dotenv())\n",
    "openai_api_key= os.getenv(\"OPENAI_API_KEY\")\n",
    "\n",
    "from prompts import prompt\n",
    "from icl import SampleGenerator\n",
    "from validate_syntax import is_valid_code\n",
    "\n",
    "task_description= \"Move robot from home to point A.\"\n",
    "\n",
    "dataset_path= \"data/dataset.jsonl\"\n",
    "generator = SampleGenerator(dataset_path)\n",
    "icl_samples= generator.demonstrations()\n",
    "\n",
    "\n",
    "class WandelScriptGenerator:\n",
    "    def __init__(self, model=\"gpt-4o-mini\"):\n",
    "        self.model = model\n",
    "\n",
    "    def generate_code(self, state):\n",
    "        system_msg, user_msg = state['system_msg'], state['user_msg']\n",
    "        messages = [\n",
    "            SystemMessage(content=system_msg, **{\"icl_samples\": icl_samples}),\n",
    "            HumanMessage(content=user_msg)\n",
    "        ]\n",
    "        llm = ChatOpenAI(openai_api_key=openai_api_key,\n",
    "                         temperature=0.7,\n",
    "                         model=self.model,\n",
    "                         verbose=True)\n",
    "        result = llm.invoke(messages)\n",
    "        generated_output = json.loads(result.content)\n",
    "        return {\n",
    "            \"system_msg\": system_msg,\n",
    "            \"user_msg\": user_msg,\n",
    "            \"generated_code\": generated_output[\"code\"]\n",
    "        }\n",
    "\n",
    "    def validate_code(self, state):\n",
    "        code = state[\"generated_code\"]\n",
    "        is_valid, error_msg = is_valid_code(code)\n",
    "        state[\"is_valid\"] = is_valid\n",
    "        state[\"error_msg\"] = error_msg\n",
    "        return state\n",
    "\n",
    "    def prepare_retry_prompt(self, state):\n",
    "        consolidated_prompt = (\n",
    "            f\"The previous code generation failed due to the following syntax errors:\\n\"\n",
    "            f\"{state['error_msg']}\\n\\n\"\n",
    "            f\"Task Description: {state['user_msg']}\\n\\n\"\n",
    "            f\"Generated Code:\\n{state['generated_code']}\\n\\n\"\n",
    "            f\"Please regenerate a syntactically correct script that resolves the above errors.\"\n",
    "        )\n",
    "        return {\n",
    "            \"system_msg\": state[\"system_msg\"],\n",
    "            \"user_msg\": consolidated_prompt\n",
    "        }\n",
    "\n",
    "# Instantiate Generator\n",
    "ws_gen = WandelScriptGenerator()\n",
    "\n",
    "# Build LangGraph State Machine\n",
    "builder = StateGraph(state_schema=dict)\n",
    "\n",
    "# Node 1: Generate code\n",
    "builder.add_node(\"Generate WS\", ws_gen.generate_code)\n",
    "\n",
    "# Node 2: Validate code\n",
    "builder.add_node(\"Validate WS\", ws_gen.validate_code)\n",
    "\n",
    "# Node 3: Prepare retry prompt\n",
    "builder.add_node(\"retry_prompt\", ws_gen.prepare_retry_prompt)\n",
    "\n",
    "# Node 4: Return output node (clean end)\n",
    "builder.add_node(\"return_output\", lambda state: state)\n",
    "\n",
    "# Edges\n",
    "builder.set_entry_point(\"Generate WS\")\n",
    "builder.add_edge(\"Generate WS\", \"Validate WS\")\n",
    "builder.add_conditional_edges(\n",
    "    \"Validate WS\",\n",
    "    path=lambda state: \"return_output\" if state.get(\"is_valid\") else \"retry_prompt\"\n",
    ")\n",
    "builder.add_edge(\"retry_prompt\", \"Generate WS\")\n",
    "builder.add_edge(\"return_output\", END)\n",
    "\n",
    "# Compile Graph\n",
    "graph = builder.compile()\n",
    "\n",
    "# Run\n",
    "initial_state = {\n",
    "    \"system_msg\": prompt,\n",
    "    \"user_msg\": task_description\n",
    "}\n",
    "final_state = graph.invoke(initial_state)\n",
    "\n",
    "# Output result\n",
    "print(f\"Task description: {task_description}\")\n",
    "print(\"\\nGenerated WandelScript:\\n\")\n",
    "if \"generated_code\" in final_state:\n",
    "    print(final_state[\"generated_code\"])\n",
    "else:\n",
    "    print(\"Code not returned. Final state:\\n\", final_state)"
   ]
  },
  {
   "cell_type": "code",
   "execution_count": 11,
   "metadata": {},
   "outputs": [
    {
     "data": {
      "image/png": "[encoded data removed]",
      "text/plain": [
       "<IPython.core.display.Image object>"
      ]
     },
     "metadata": {},
     "output_type": "display_data"
    }
   ],
   "source": [
    "from IPython.display import Image, display\n",
    "from langchain_core.runnables.graph import CurveStyle, MermaidDrawMethod, NodeStyles\n",
    "\n",
    "display(\n",
    "    Image(\n",
    "        graph.get_graph().draw_mermaid_png(\n",
    "            draw_method=MermaidDrawMethod.API,\n",
    "        )\n",
    "    )\n",
    ")"
   ]
  },
  {
   "cell_type": "code",
   "execution_count": null,
   "metadata": {},
   "outputs": [],
   "source": []
  }
 ],
 "metadata": {
  "kernelspec": {
   "display_name": "wortspark",
   "language": "python",
   "name": "python3"
  },
  "language_info": {
   "codemirror_mode": {
    "name": "ipython",
    "version": 3
   },
   "file_extension": ".py",
   "mimetype": "text/x-python",
   "name": "python",
   "nbconvert_exporter": "python",
   "pygments_lexer": "ipython3",
   "version": "3.13.0"
  }
 },
 "nbformat": 4,
 "nbformat_minor": 2
}
